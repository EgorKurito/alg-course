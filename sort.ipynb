{
 "cells": [
  {
   "cell_type": "code",
   "execution_count": 17,
   "metadata": {},
   "outputs": [],
   "source": [
    "def insert_sort(A):\n",
    "    \"\"\"\n",
    "    Сортировка вставками\n",
    "    \"\"\"\n",
    "    N=len(A)\n",
    "    for pop in range(N):\n",
    "        k = pop-1\n",
    "        while k>-1 and A[k]>A[k+1]:\n",
    "            A[k],A[k+1] = A[k+1],A[k]\n",
    "            k-=1"
   ]
  },
  {
   "cell_type": "code",
   "execution_count": 18,
   "metadata": {},
   "outputs": [],
   "source": [
    "def bubble_sort(A):\n",
    "    \"\"\"\n",
    "    Сортировка пузырьком\n",
    "    \"\"\"\n",
    "    changed = True\n",
    "    while changed:\n",
    "        changed = False\n",
    "        for i in range(len(A) - 1):\n",
    "            if A[i] > A[i+1]:\n",
    "                A[i], A[i+1] = A[i+1], A[i]\n",
    "                changed = True\n",
    "    "
   ]
  },
  {
   "cell_type": "code",
   "execution_count": 19,
   "metadata": {},
   "outputs": [],
   "source": [
    "def swap_sort(A):\n",
    "    \"\"\"\n",
    "    Сортировка обменом\n",
    "    \"\"\"\n",
    "    pass"
   ]
  },
  {
   "cell_type": "code",
   "execution_count": 20,
   "metadata": {},
   "outputs": [],
   "source": [
    "def test_sort(sort_algorithm):\n",
    "    print('test #1')\n",
    "    A=[5,4,3,2,1]\n",
    "    A_sorted=[1,2,3,4,5]\n",
    "    sort_algorithm(A)\n",
    "    print(\"OK\" if A==A_sorted else \"Fail\")\n",
    "        \n",
    "    print('test #2')\n",
    "    A=[4,4,4,4,4]\n",
    "    A_sorted=[4,4,4,4,4]\n",
    "    sort_algorithm(A)\n",
    "    print(\"OK\" if A==A_sorted else \"Fail\")\n",
    "        \n",
    "    print('test #3')\n",
    "    A=[1,4,5,3,6,8,3,4,7]\n",
    "    A_sorted=[1,3,3,4,4,5,6,7,8]\n",
    "    sort_algorithm(A)\n",
    "    print(\"OK\" if A==A_sorted else \"Fail\")"
   ]
  },
  {
   "cell_type": "code",
   "execution_count": 21,
   "metadata": {},
   "outputs": [
    {
     "name": "stdout",
     "output_type": "stream",
     "text": [
      "test #1\n",
      "OK\n",
      "test #2\n",
      "OK\n",
      "test #3\n",
      "OK\n"
     ]
    }
   ],
   "source": [
    "test_sort(insert_sort)"
   ]
  },
  {
   "cell_type": "code",
   "execution_count": 22,
   "metadata": {},
   "outputs": [
    {
     "name": "stdout",
     "output_type": "stream",
     "text": [
      "test #1\n",
      "OK\n",
      "test #2\n",
      "OK\n",
      "test #3\n",
      "OK\n"
     ]
    }
   ],
   "source": [
    "test_sort(bubble_sort)"
   ]
  },
  {
   "cell_type": "code",
   "execution_count": null,
   "metadata": {},
   "outputs": [],
   "source": []
  }
 ],
 "metadata": {
  "kernelspec": {
   "display_name": "Python 3",
   "language": "python",
   "name": "python3"
  },
  "language_info": {
   "codemirror_mode": {
    "name": "ipython",
    "version": 3
   },
   "file_extension": ".py",
   "mimetype": "text/x-python",
   "name": "python",
   "nbconvert_exporter": "python",
   "pygments_lexer": "ipython3",
   "version": "3.7.0"
  }
 },
 "nbformat": 4,
 "nbformat_minor": 2
}
